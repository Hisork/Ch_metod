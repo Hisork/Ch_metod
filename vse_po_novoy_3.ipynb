{
  "nbformat": 4,
  "nbformat_minor": 0,
  "metadata": {
    "colab": {
      "provenance": []
    },
    "kernelspec": {
      "name": "python3",
      "display_name": "Python 3"
    },
    "language_info": {
      "name": "python"
    }
  },
  "cells": [
    {
      "cell_type": "markdown",
      "source": [],
      "metadata": {
        "id": "Bfb3K25frDBy"
      }
    },
    {
      "cell_type": "markdown",
      "source": [
        "**Вопрос 1:** Вывести график остатков для задачи про аукционные вина "
      ],
      "metadata": {
        "id": "K80iLVGQeqh9"
      }
    },
    {
      "cell_type": "markdown",
      "source": [
        "Вводм, сортируем данные:"
      ],
      "metadata": {
        "id": "SISkgD9BgMEF"
      }
    },
    {
      "cell_type": "code",
      "execution_count": null,
      "metadata": {
        "id": "m0ixkdq6q4bS",
        "colab": {
          "base_uri": "https://localhost:8080/"
        },
        "outputId": "11933b83-4019-4077-f84f-339d3a76271a"
      },
      "outputs": [
        {
          "output_type": "stream",
          "name": "stdout",
          "text": [
            "[82. 72. 52. 41. 38. 37. 32. 31. 28. 24. 22. 20. 17. 12.]\n",
            "[50.   34.9  25.   12.   15.   13.    6.98 10.    5.99  8.98  6.98  4.99\n",
            "  5.98  4.98]\n"
          ]
        }
      ],
      "source": [
        "import numpy as np\n",
        "from scipy.interpolate import interp1d\n",
        "import matplotlib.pyplot as plt\n",
        "year=[1890,1900,1920,1931,1934,1935,1940,1941,1944,1948,1950,1952, 1955, 1960]\n",
        "delta=np.array([])\n",
        "for data in year:\n",
        "    delta=np.append(delta, 1972-data)\n",
        "cost = np.array([50.00, 34.90, 25.00, 12.00, 15.00, 13.00, 6.98, 10.00, 5.99, 8.98, 6.98, 4.99, 5.98, 4.98])\n",
        "print(delta)\n",
        "print(cost)\n"
      ]
    },
    {
      "cell_type": "code",
      "source": [
        "d=list(zip(delta,cost))\n",
        "d.sort()\n",
        "delta_sort=np.array([i[0] for i in d])\n",
        "cost_sort=np.array([i[1] for i in d])\n",
        "print(delta_sort)\n",
        "print(cost_sort)\n"
      ],
      "metadata": {
        "colab": {
          "base_uri": "https://localhost:8080/"
        },
        "id": "5jOLyECrgem9",
        "outputId": "0226a6ba-d2e2-44e5-8e7c-e39c1c73b42c"
      },
      "execution_count": null,
      "outputs": [
        {
          "output_type": "stream",
          "name": "stdout",
          "text": [
            "[12. 17. 20. 22. 24. 28. 31. 32. 37. 38. 41. 52. 72. 82.]\n",
            "[ 4.98  5.98  4.99  6.98  8.98  5.99 10.    6.98 13.   15.   12.   25.\n",
            " 34.9  50.  ]\n"
          ]
        }
      ]
    },
    {
      "cell_type": "markdown",
      "source": [
        "Выводим график:"
      ],
      "metadata": {
        "id": "2r1Eei1mgf0C"
      }
    },
    {
      "cell_type": "code",
      "source": [
        "plt.plot(delta_sort, cost_sort, 'o')\n",
        "plt.show()"
      ],
      "metadata": {
        "colab": {
          "base_uri": "https://localhost:8080/",
          "height": 265
        },
        "id": "V1wA_plNghvB",
        "outputId": "87ad544f-4df0-47cb-a973-e11b7523c375"
      },
      "execution_count": null,
      "outputs": [
        {
          "output_type": "display_data",
          "data": {
            "text/plain": [
              "<Figure size 432x288 with 1 Axes>"
            ],
            "image/png": "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\n"
          },
          "metadata": {
            "needs_background": "light"
          }
        }
      ]
    },
    {
      "cell_type": "markdown",
      "source": [
        "Строим линейную модель:"
      ],
      "metadata": {
        "id": "UwCZ6fhfgsrU"
      }
    },
    {
      "cell_type": "code",
      "source": [
        "N=len(cost_sort)\n",
        "mx = sum(delta_sort)/N\n",
        "my = cost_sort.sum()/N\n",
        "a2 = np.dot(delta_sort.T, delta_sort)/N\n",
        "a11 = np.dot(delta_sort.T, cost_sort)/N\n",
        "\n",
        "kn = (a11 - mx*my)/(a2 - mx**2)\n",
        "bn = my - kn*mx\n",
        "fn = np.array([kn*z+bn for z in delta_sort])"
      ],
      "metadata": {
        "id": "YwSzByP8gjru"
      },
      "execution_count": null,
      "outputs": []
    },
    {
      "cell_type": "code",
      "source": [
        "plt.scatter(delta_sort,cost_sort,s=3,c='green')\n",
        "#plt.grid(True)\n",
        "plt.plot(delta_sort,fn)\n",
        "plt.show()"
      ],
      "metadata": {
        "colab": {
          "base_uri": "https://localhost:8080/",
          "height": 265
        },
        "id": "LfgE1dk8h1wG",
        "outputId": "9a3fa529-1755-4cd3-a976-95b85ce0c886"
      },
      "execution_count": null,
      "outputs": [
        {
          "output_type": "display_data",
          "data": {
            "text/plain": [
              "<Figure size 432x288 with 1 Axes>"
            ],
            "image/png": "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\n"
          },
          "metadata": {
            "needs_background": "light"
          }
        }
      ]
    },
    {
      "cell_type": "markdown",
      "source": [
        "Строим график остатков"
      ],
      "metadata": {
        "id": "EX2CuSjzmV2v"
      }
    },
    {
      "cell_type": "code",
      "source": [
        "e=fn-cost_sort #считаем остатки\n",
        "plt.scatter(delta_sort, e, color='#68f7cc')\n",
        "plt.show\n"
      ],
      "metadata": {
        "colab": {
          "base_uri": "https://localhost:8080/",
          "height": 284
        },
        "id": "zb3w-JdymZaF",
        "outputId": "7df59fdd-8f26-43f5-ab75-6a1def0ff58a"
      },
      "execution_count": null,
      "outputs": [
        {
          "output_type": "execute_result",
          "data": {
            "text/plain": [
              "<function matplotlib.pyplot.show(close=None, block=None)>"
            ]
          },
          "metadata": {},
          "execution_count": 8
        },
        {
          "output_type": "display_data",
          "data": {
            "text/plain": [
              "<Figure size 432x288 with 1 Axes>"
            ],
            "image/png": "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\n"
          },
          "metadata": {
            "needs_background": "light"
          }
        }
      ]
    },
    {
      "cell_type": "markdown",
      "source": [
        "**Вопрос 2:** Видим, что график не показывает ярко выраженную закономерность между остатками и годами выдержки, что говорит о достаточно корректном посроении нашей линейной модели."
      ],
      "metadata": {
        "id": "FPfe0l77nTyl"
      }
    },
    {
      "cell_type": "markdown",
      "source": [
        "**Вопрос 3:** Выполнить аппроксимацию остатков полиномом:"
      ],
      "metadata": {
        "id": "sGlsgbX9qhp2"
      }
    },
    {
      "cell_type": "code",
      "source": [
        "from scipy import interpolate\n",
        "\n",
        "#poly = interpolate.KroghInterpolator(delta_sort, e)\n",
        "#y_poly = poly(delta_sort)\n",
        "#plt.plot(delta_sort, y_poly, label=\"Интерполирующий полином\")\n",
        "x_poly=np.polyfit(delta_sort, e, 3)\n",
        "y_poly=np.polyval(x_poly, x_poly)\n",
        "plt.plot(x_poly, y_poly)\n",
        "plt.show\n"
      ],
      "metadata": {
        "colab": {
          "base_uri": "https://localhost:8080/",
          "height": 283
        },
        "id": "E9qqETqut9Hi",
        "outputId": "ea21258e-2124-431d-b9ea-68277cd91e76"
      },
      "execution_count": null,
      "outputs": [
        {
          "output_type": "execute_result",
          "data": {
            "text/plain": [
              "<function matplotlib.pyplot.show(close=None, block=None)>"
            ]
          },
          "metadata": {},
          "execution_count": 24
        },
        {
          "output_type": "display_data",
          "data": {
            "text/plain": [
              "<Figure size 432x288 with 1 Axes>"
            ],
            "image/png": "iVBORw0KGgoAAAANSUhEUgAAAXkAAAD4CAYAAAAJmJb0AAAAOXRFWHRTb2Z0d2FyZQBNYXRwbG90bGliIHZlcnNpb24zLjcuMSwgaHR0cHM6Ly9tYXRwbG90bGliLm9yZy/bCgiHAAAACXBIWXMAAAsTAAALEwEAmpwYAAAhnUlEQVR4nO3dd3xUZdrG8d9DSSD0EjqhdxIQQrOxIgoqrCDoa1kb7qJb3m2vQhBQVlEp1rWsi6uubdd1CUVFFkHsigIKKUAghN5rgPRk7vePRD+sBgLMJGdmcn3/MXPOyTzXJ2YuTk7O3HFmhoiIhKcqXgcQEZHyo5IXEQljKnkRkTCmkhcRCWMqeRGRMFbN6wAna9y4sbVt29brGCIiIWX16tUHzSy6tH1BVfJt27Zl1apVXscQEQkpzrltp9qnyzUiImFMJS8iEsZU8iIiYUwlLyISxlTyIiJhTCUvIhLGVPIiImFMJS8i4qHCIh9PLdvEpn3Hy+X5g+rNUCIilYWZ8dqKbdy3MBWAY7kFTB3RPeDrqORFRCpYyq5MRjz92fePL+rUmMlXdiuXtVTyIiIVZE9mDne9tpq1OzO/3/bphEto3TCq3NZUyYuIlLMTeYU8vXwTf/044/ttD47qyc8GxOCcK9e1VfIiIuWksMjHmyt3MGVByvfb+rZpwJyb+9KodmSFZFDJi4gEmJmxfMN+7luYyq6jOd9v/9st8Qzt3rRCs6jkRUQCKGVXJg8tWs+XGYe+33ZD/xgmXdmVujWqV3gelbyISADsOprDY0vSmPftru+3taxfk0ev7cWgDo08y6WSFxHxw/5juVz/wgp2Hckhr9D3/fbxF7fnD0M7UzOiqofpVPIiIn556oNNZBzI+v5x12Z1mDkmjl6t63sX6iQqeRGRc2RmdIiuDUD1qo7fXNKJX/6kAxHVgmdijEpeROQc7MnMYcr8FD7YsJ/eresza2wcnZvW8TrWj6jkRUTOgs9n/HPldh55bwOFPh9TrurG7Re0o2qV8n1T07lSyYuInKGtB7NImJfEiozDnN+hETOuiSOmUfmNJAgElbyISBkKi3y89PkWHnt/IxHVqjBzTCzXxbcu95EEgaCSFxE5jfV7jjExMYmknZlc1r0p00f1pGndGl7HOmMqeRGRUuQVFvHsh5t57sN06tWszjM3nsdVsc1D4uz9ZH7d5+Ocu9Y5l+qc8znn4kvZH+OcO+Gcu9ufdUREKtI3248w4s+f8ecPNjGyVwuW/XEwI+JahFzBg/9n8inANcBfT7H/cWCxn2uIiFSI7PxCHnt/Iy99voVmdWvw8m39uKRrE69j+cWvkjez9UCp/7o550YBW4CsH+0UEQkyn6cfJGFeEjsO53DzwDZMGN6FOh4MFAu0crkm75yrDUwELgN0qUZEglZmTgGPvLeeN1fuoF3jWvxr/EAGtPduoFiglVnyzrllQLNSdk02s4Wn+LRpwBNmdqKsa1jOufHAeICYmJiy4oiIBMz7qXuZsiCFQ1n53DW4A78f2oka1b0dKBZoZZa8mQ09h+cdAIx1zs0C6gM+51yumT1TyvPPAeYAxMfH2zmsJSJyVg4cz2PaO6ksStpDt+Z1efHWfsS2qud1rHJRLpdrzOyi7z52zk0DTpRW8CIiFcnMWLBmF396Zx3ZeUXcfXln7hzcgepVg2egWKD5VfLOudHA00A0sMg5t8bMhgUkmYhIAO06msPk+cl8lHaAPjHFA8U6Ngm+gWKB5u/dNfOB+WUcM82fNURE/OHzGW98vZ0Z763HZ3D/yO7cMqht0A4UCzS941VEwlbGgRMkJCbz9dbDXNSpMQ+PjqV1w+AeKBZoKnkRCTuFRT5e+HQLTyzbSI1qVZg9No6xfVuF5DtW/aWSF5Gwsm73MSYkriVl1zGG9WjKg1f3pEkIDRQLNJW8iISF3IIinlmezvMfb6Z+VAR/uakPV8Q29zqW51TyIhLyVm87zIS5SWw+kMWYPq2YOqIb9aMivI4VFFTyIhKysvIKmb0kjVe+3EqLejV5ZVx/BneO9jpWUFHJi0hI+mTjASbNS2Z3Zg63DGzDPcO7UjtSlfZD+oqISEjJzC7gwUXrmLt6J+2ja/HWnYPo17ah17GClkpeRELGf1L2MHVhKoez8vnVTzrw20vDb6BYoKnkRSTo7T+ey/0LU1mcspfuzevy8m396NkyPAeKBZpKXkSClpmR+M0uHnx3HTkFRdwzrAvjL24f1gPFAk0lLyJBacfhbO6dn8ynmw4S36YBM8bE0bFJba9jhRyVvIgEFZ/PePXLrcxakoYDHri6Bz8b0IYqlWSgWKCp5EUkaKTvP0FCYhKrth3h4s7RPDy6J60aVK6BYoGmkhcRzxUU+ZjzSQZPLdtEzYiqPHZtL67p07JSDhQLNJW8iHgqZVcmE+YmsW7PMa6MbcafftqT6DqRXscKGyp5EfFEbkERT32wiTmfZNCwVgTP/6wPw3tqoFigqeRFpMKt3HqYiXOTyDiYxXXxrZh8ZXfqRVX3OlZYUsmLSIU5kVfIrP9s4NUvt9GqQU1ev2MAF3Zq7HWssKaSF5EK8VHafibPT2F3Zg63X9CWuy/vQi0NFCt3+gqLSLk6kpXPg4vWMe+bXXRsUpu5d51P3zYNvI5VaajkRaRcmBmLU/Zy38IUjmYX8L9DOvKbIR2JrKaBYhVJJS8iAbf/WC5TF6awJHUfsS3r8eq4AXRvUdfrWJWSXyXvnLsWmAZ0A/qb2aqT9sUBfwXqAj6gn5nl+rOeiAQ3M+Pfq3by4KJ15Bf6mHRFV+64sB3VNFDMM/6eyacA11Bc5t9zzlUDXgduNrO1zrlGQIGfa4lIENtxOJtJ85L5LP0g/ds1ZMY1sbSP1kAxr/lV8ma2HijtrceXA0lmtrbkuEP+rCMiwavIZ7zyxVZmL0mjahXH9FE9ubF/jAaKBYnyuibfGTDn3BIgGnjTzGaVdqBzbjwwHiAmJqac4ohIedi07zgTE5P4ZvtRftIlmodHx9Kifk2vY8lJyix559wyoFkpuyab2cLTPO+FQD8gG/jAObfazD744YFmNgeYAxAfH29nGlxEvFNQ5OP5jzbz9PJ0akVW5cn/6c3VvVtooFgQKrPkzWzoOTzvTuATMzsI4Jx7D+gD/KjkRSS0JO08yoS5SWzYe5wRcc2Z9tMeNK6tgWLBqrwu1ywBJjjnooB8YDDwRDmtJSIVILegiCeWbuSFTzOIrhPJnJv7cnmP0n7Il2Di7y2Uo4GnKb7uvsg5t8bMhpnZEefc48BKwID3zGyR/3FFxAsrMg6RkJjE1kPZ3NC/NQlXdKNeTQ0UCwX+3l0zH5h/in2vU3wbpYiEqOO5BcxYvIE3vtpOTMMo/vHzAZzfUQPFQone8Soipfpww37unZ/MvmO5/PzCdvzx8s5ERagyQo3+j4nIfzmclc8D76SyYM1uOjWpzXO/PJ/zYjRQLFSp5EUEKB5J8G7SHqa9ncqx3AJ+d2knfnVJBw0UC3EqeRFhb2YuUxaksGz9Pnq1qsfMsQPo2kwDxcKBSl6kEjMz3ly5g4cXrafA52Pyld0Yd2E7qmokQdhQyYtUUtsOZZGQmMyXGYcY2L4hM66Jo23jWl7HkgBTyYtUMkU+4+XPt/Do+2lUr1KFh0fHcn2/1hooFqZU8iKVSNre40xITGLtjqNc2rUJ00f3pHk9DRQLZyp5kUogv9DHcx+l8+yH6dSpUZ0/33AeI+Oaa6BYJaCSFwlza3YcZeLcJNL2Hefq3i24f2QPGtaK8DqWVBCVvEiYyskv4vGlabz42Raa1KnBi7fGc2m3pl7HkgqmkhcJQ19sPkhCYjLbD2dz44AYEq7oSt0aGihWGankRcLIsdwCHnlvA//8ejttGkXxz18MZFCHRl7HEg+p5EXCxLJ1+5i8IJkDx/MYf3F7/jC0MzUjNJKgslPJi4S4QyfymPbOOt5Zu5uuzeow5+Z4erWu73UsCRIqeZEQZWa8vXY3095O5UReIX+8rDN3De5ARLUqXkeTIKKSFwlBu4/mMGVBCss37Kd36/rMGhtH56Z1vI4lQUglLxJCfD7jnyu388h7GyjyGVNHdOe289tqoJickkpeJERsOZhFQmISX205zAUdG/HI6DhiGkV5HUuCnEpeJMgVFvl48bMtPL50IxHVqjBzTCzXxbfWSAI5Iyp5kSC2fs8xJiYmkbQzk8u6N2X6qJ40rVvD61gSQlTyIkEor7CIZ5en89xHm6kfVZ1nb+zDlbHNdPYuZ82vknfOXQtMA7oB/c1sVcn26sDfgD4la7xqZo/4F1Wkcvhm+xEmzk1i0/4TXHNeS6aO6E4DDRSTc+TvmXwKcA3w1x9svxaINLNY51wUsM45908z2+rneiJhKzu/kEeXbOTlL7bQvG4NXr69H5d0aeJ1LAlxfpW8ma0HSvsR0oBazrlqQE0gHzjmz1oi4ezz9IMkzEtix+Ecbh7YhgnDu1BHA8UkAMrrmvxc4GpgDxAF/MHMDpfTWiIhKzOngIcXredfq3bQrnEt/jV+IAPaa6CYBE6ZJe+cWwY0K2XXZDNbeIpP6w8UAS2ABsCnzrllZpZRyvOPB8YDxMTEnGlukZC3JHUvUxekcCgrn7sGd+D3QztRo7oGiklglVnyZjb0HJ73RuA/ZlYA7HfOfQ7EAz8qeTObA8wBiI+Pt3NYSySkHDiex7S3U1mUvIduzevy4q39iG1Vz+tYEqbK63LNdmAI8JpzrhYwEHiynNYSCQlmxvxvd/HAu+vIzivinmFdGH9xe6pX1UAxKT/+3kI5GngaiAYWOefWmNkw4FngZedcKuCAl80sye+0IiFq19EcJs9P5qO0A/SJKR4o1rGJBopJ+fP37pr5wPxStp+g+DZKkUrN5zPe+GobMxZvwIBpI7tz8yANFJOKo3e8ipSTzQdOkJCYxMqtR7ioU2MeHh1L64YaKCYVSyUvEmCFRT7mfJrBk8s2UaNaFWaPjWNs31YaSSCeUMmLBFDq7kwmJiaRsusYw3s044FRPWhSRwPFxDsqeZEAyC0o4unlm3j+4wwaREXwl5v6cEVsc69jiajkRfy1etthJsxNYvOBLMb0acXUEd2oH6WBYhIcVPIi5ygrr5DZS9J45cuttKhXk1fG9Wdw52ivY4n8F5W8yDn4ZOMBJs1LZndmDrcMbMM9w7tSO1IvJwk++q4UOQtHs/OZvmg9c1fvpH10Lf595yDi2zb0OpbIKankRc7Q4uQ9TF2YypHsfH59SQf+d4gGiknwU8mLlGH/8VzuX5jK4pS99GhRl1fG9aNHCw0Uk9Cgkhc5BTNj7uqdTF+0npyCIiYM78IvLtJAMQktKnmRUuw4nM2985P5dNNB+rVtwIwxcXSIru11LJGzppIXOYnPZ7z65VZmLUnDAQ9c3YOfDWhDFQ0UkxClkhcpkb7/OBMTk1m97QiDO0fz0OietGqggWIS2lTyUukVFPmY80kGTy3bRFRkVR6/rhejz2upgWISFlTyUqml7Mpkwtwk1u05xlWxzZn20x5E14n0OpZIwKjkpVLKLSjiqQ82MeeTDBrWiuD5n/VleM/S/l69SGhTyUul8/WWwyQkJpFxMIvr4lsx+cru1Iuq7nUskXKhkpdK40ReITMXb+C1Fdto1aAmr98xgAs7NfY6lki5UslLpfBh2n4mz0tmz7Fcxl3QjruHdSYqQt/+Ev70XS5h7UhWPg++u4553+6iY5PazL3rfPq2aeB1LJEKo5KXsGRmvJe8l/vfTuFodgG/HdKRXw/pSGQ1DRSTykUlL2Fn37Fcpi5I4f11+4htWY9Xxw2ge4u6XscS8YRfJe+cmw2MBPKBzcDtZna0ZN8k4A6gCPitmS3xL6rI6ZkZb63awfRF68kv9DHpiq7ccWE7qmmgmFRi/p7JLwUmmVmhc24mMAmY6JzrDlwP9ABaAMucc53NrMjP9URKtf1QNpPmJ/F5+iH6t2vIzDFxtGtcy+tYIp7zq+TN7P2THq4AxpZ8fDXwppnlAVucc+lAf+BLf9YT+aEin/H3L7by6JI0qlZxTB/Vkxv7x2igmEiJQF6THwf8q+TjlhSX/nd2lmz7EefceGA8QExMTADjSLjbtO84ExKT+Hb7US7pEs1Do2NpUb+m17FEgkqZJe+cWwaU9n7vyWa2sOSYyUAh8MbZBjCzOcAcgPj4eDvbz5fKJ7/Qx/Mfb+aZ5enUiqzKk//Tm6t7t9BAMZFSlFnyZjb0dPudc7cBI4BLzey7kt4FtD7psFYl20T8krTzKBPmJrFh73FG9mrB/SO707i2BoqJnIq/d9cMByYAg80s+6RdbwP/cM49TvEvXjsBX/uzllRuOflFPLlsIy98mkF0nUheuCWey7o39TqWSNDz95r8M0AksLTkR+UVZnaXmaU6594C1lF8GefXurNGztWKjEMkJCax9VA2N/RvTcIV3ahXUwPFRM6Ev3fXdDzNvoeAh/x5fqncjucWMGPxBt74ajsxDaP4x88HcH5HDRQTORt6x6sEpeUb9jF5fgr7juXy8wvb8X+Xd6FmhEYSiJwtlbwElcNZ+TzwTioL1uymc9PaPHfT+ZwXo4FiIudKJS9Bwcx4J2kP095O5XhuAb+7tBO/vqQjEdU0kkDEHyp58dzezFymLEhm2fr99GpVj5ljB9C1mQaKiQSCSl48Y2a8uXIHDy9aT4HPx5SrunH7Be2oqpEEIgGjkhdPbDuURUJiMl9mHGJQ+0bMGBNLm0YaKCYSaCp5qVBFPuPlz7fw6PtpVK9ShUeuieX6fq01kkCknKjkpcKk7S0eKLZ2x1GGdmvC9FGxNKtXw+tYImFNJS/lLr/Qx7MfpvPcR+nUqVGdP99wHiPjmuvsXaQCqOSlXK3ZcZQJc9eycd8Jru7dgvtH9qBhrQivY4lUGip5KRc5+UU89n4aL32+hSZ1avDirfFc2k0DxUQqmkpeAu6LzQdJSExm++FsbhoQQ8IVXalTQwPFRLygkpeAOZZbwCPvreefX++gbaMo3hw/kIHtG3kdS6RSU8lLQCxdt48pC5I5cDyPOy9uz++HdtZAMZEgoJIXvxw8kce0t1N5N2kPXZvV4YVb4olrVd/rWCJSQiUv58TMWLhmN396J5UTeYX88bLO3DW4gwaKiQQZlbyctd1Hc5iyIIXlG/ZzXkx9Zo6Jo3PTOl7HEpFSqOTljPl8xj++3s6MxRso8hn3jejOree31UAxkSCmkpczsuVgFgmJSXy15TAXdGzEI6PjiGkU5XUsESmDSl5Oq7DIx4ufbeHxpRuJqFaFWWPiuDa+lUYSiIQIlbyc0rrdx5iYmETyrkwu696U6aN60rSuBoqJhBKVvPxIXmERzyxP5y8fbaZ+VHWevbEPV8Y209m7SAjyq+Sdc7OBkUA+sBm43cyOOucuA2YAESX77jGz5f6GlfK3etsRJiYmkb7/BNec15KpI7rTQAPFREKWv2fyS4FJZlbonJsJTAImAgeBkWa22znXE1gCtPRzLSlH2fmFzF6Sxt+/2ErzujV4+fZ+XNKlidexRMRPfpW8mb1/0sMVwNiS7d+etD0VqOmcizSzPH/Wk/Lx2aaDJMxLYueRHG4Z1IYJw7tSO1JX8kTCQSBfyeOAf5WyfQzwjQo++GRmF/DQe+t4a9VO2jWuxVt3DqJ/u4ZexxKRACqz5J1zy4BmpeyabGYLS46ZDBQCb/zgc3sAM4HLT/P844HxADExMWccXPzzn5S9TF2YwuGsfH75kw787tJO1KiugWIi4abMkjezoafb75y7DRgBXGpmdtL2VsB84BYz23ya558DzAGIj4+3Ux0ngXHgePFAsUXJe+jWvC4v3dqP2Fb1vI4lIuXE37trhgMTgMFmln3S9vrAIiDBzD73K6EEhJkx75tdPPDuOnLyi7hnWBfGX9ye6lU1UEwknPl7Tf4ZIBJYWnIP9Qozuwv4DdARuM85d1/JsZeb2X4/15NzsOtoDvfOS+bjjQfo26YBM8fE0bFJba9jiUgF8Pfumo6n2D4dmO7Pc4v/fD7j9a+2MXPxBgyYNrI7twxqSxUNFBOpNHSfXJjafOAECYlJrNx6hIs6Nebh0bG0bqiBYiKVjUo+zBQU+Xjh0wyeXLaJGtWqMHtsHGP7aqCYSGWlkg8jKbsymZiYROruYwzv0YwHRvWgSR0NFBOpzFTyYSC3oIinl2/i+Y8zaBAVwV9u6sMVsc29jiUiQUAlH+JWbT3MhMQkMg5kMbZvK6Zc1Y36URooJiLFVPIhKiuveKDYK19upUW9mrw6rj8Xd472OpaIBBmVfAj6eOMB7p2XzO7MHG4d1JZ7hnWhlgaKiUgp1Awh5Gh2Pg++u57Eb3bSProW/75zEPFtNVBMRE5NJR8iFifvYerCVI5k5/ObSzrymyEdNVBMRMqkkg9y+4/lct/CVP6TupceLeryyrh+9GihgWIicmZU8kHKzJi7eicPvruO3EIfE4d35RcXtaOaBoqJyFlQyQehHYezuXd+Mp9uOki/tg2YMSaODtEaKCYiZ08lH0SKfMarX25l9pI0HPDg1T24aUAbDRQTkXOmkg8S6fuPMzExmdXbjjC4czQPje5JqwYaKCYi/lHJe6ygyMdfP97Mnz9IJyqyKo9f14vR57XUQDERCQiVvIdSdmVyz9wk1u85xlVxzZk2sgfRdSK9jiUiYUQl74HcgiKeXLaJFz7NoGGtCP56c1+G9Sjtb6WLiPhHJV/Bvso4RMK8ZLYczOJ/4ltz75XdqBdV3etYIhKmVPIV5HhuAbP+k8ZrK7bRqkFNXr9jABd2aux1LBEJcyr5CvBh2n4mz0tmz7Fcxl3QjruHdSYqQl96ESl/appydCQrnwffXce8b3fRqUlt5t51Pn3bNPA6lohUIir5cmBmLErew/0LU8nMKeC3Qzry6yEdiaymgWIiUrFU8gG271guUxaksHTdPmJb1uP1nw+gW/O6XscSkUrKr5J3zs0GRgL5wGbgdjM7etL+GGAdMM3MHvVnrWBnZry1agfTF60nv9DHpCu6cseFGigmIt7y90x+KTDJzAqdczOBScDEk/Y/Diz2c42gt/1QNgnzkvhi8yH6t2vIzDFxtGtcy+tYIiL+lbyZvX/SwxXA2O8eOOdGAVuALH/WCGZFPuPvX2zl0SVpVK3imD6qJzf2j9FAMREJGoG8Jj8O+BeAc642xWf0lwF3n+6TnHPjgfEAMTExAYxTvjbuO86EuUms2XGUIV2bMH1UT1rUr+l1LBGR/1JmyTvnlgGlved+spktLDlmMlAIvFGybxrwhJmdKGvQlpnNAeYAxMfH2xkn90h+oY/nP97M08s3UTuyGk9d35uf9mqhgWIiEpTKLHkzG3q6/c6524ARwKVm9l1JDwDGOudmAfUBn3Mu18ye8S+ut9buOMrExCQ27D3OyF4tmDayO41qa6CYiAQvf++uGQ5MAAabWfZ3283sopOOmQacCOWCz8kv4ollG/nbpxlE14nkhVviuax7U69jiYiUyd9r8s8AkcDSkssVK8zsLr9TBZEvNx9i0rwkth7K5ob+rZl0ZTfq1tBAMREJDf7eXdPxDI6Z5s8aXjmWW8CMxRv4x1fbiWkYxT9+PoDzO2qgmIiEFr3jtRTLN+zj3nkp7D+eyy8uascfL+tCzQiNJBCR0KOSP8mhE3k88O46Fq7ZTZemdXj+5r70bl3f61giIudMJU/xSIK31+7mT++s43huAb8f2olf/aQjEdU0kkBEQlulL/k9mTlMmZ/CBxv206t1fWaNiaNLszpexxIRCYhKW/I+n/Hmyh088t56Cnw+plzVjdsvaEdVjSQQkTBSKUt+68EsEuYlsSLjMIPaN2LGmFjaNNJAMREJP5Wq5It8xkufbeGxpWlUr1KFR66J5fp+rTWSQETCVqUp+Q17jzFxbhJrd2YytFsTpo+KpVm9Gl7HEhEpV2Ff8nmFRTz74Wae+zCdejWr8/QN5zEirrnO3kWkUgjrkv92+xEmJiaxcd8JRvVuwX0je9CwVoTXsUREKkxYlnx2fiGPvb+Rlz7fQrO6NXjptniGdNVAMRGpfMKu5L9IP0jCvGS2H87mpgExJFzRlToaKCYilVTYlHxmTgGPvLeeN1fuoG2jKN4cP5CB7Rt5HUtExFNhUfJJO4/yi1dXceB4HncObs8fhnamRnUNFBMRCYuSj2kYReemdXjhlnjiWtX3Oo6ISNAIi5KvHxXBa3cM8DqGiEjQ0ZhFEZEwppIXEQljKnkRkTCmkhcRCWMqeRGRMKaSFxEJYyp5EZEwppIXEQljzsy8zvA959wBYJvXOc5CY+Cg1yHOkLKWj1DKCqGVV1nPXBsziy5tR1CVfKhxzq0ys3ivc5wJZS0foZQVQiuvsgaGLteIiIQxlbyISBhTyftnjtcBzoKylo9QygqhlVdZA0DX5EVEwpjO5EVEwphKXkQkjKnkz5Jz7lrnXKpzzueciz9p+2XOudXOueSS/w7xMmdJplKzluyb5JxLd86lOeeGeZXxVJxzvZ1zK5xza5xzq5xz/b3OdDrOuf91zm0o+XrP8jrPmXDO/Z9zzpxzjb3OcirOudklX9ck59x851x9rzP9kHNueMnrKN05l+B1nh9SyZ+9FOAa4JMfbD8IjDSzWOBW4LWKDlaKUrM657oD1wM9gOHAc865YPujuLOAP5lZb+C+ksdByTl3CXA10MvMegCPehypTM651sDlwHavs5RhKdDTzOKAjcAkj/P8l5LXzbPAFUB34IaS11fQUMmfJTNbb2ZppWz/1sx2lzxMBWo65yIrNt2PMpWaleJCetPM8sxsC5AOBNuZsgF1Sz6uB+w+zbFe+yUww8zyAMxsv8d5zsQTwASKv85By8zeN7PCkocrgFZe5ilFfyDdzDLMLB94k+LXV9BQyZePMcA3373og1BLYMdJj3eWbAsmvwdmO+d2UHxmHFRncD/QGbjIOfeVc+5j51w/rwOdjnPuamCXma31OstZGgcs9jrEDwT9ayks/pB3oDnnlgHNStk12cwWlvG5PYCZFP8oXO78yeq102UHLgX+YGaJzrnrgBeBoRWZ72RlZK0GNAQGAv2At5xz7c3D+5PLyHsvFfT9eSbO5HvYOTcZKATeqMhs4UAlXwozO6cycc61AuYDt5jZ5sCmKt05Zt0FtD7pcauSbRXqdNmdc68Cvyt5+G/gbxUS6hTKyPpLYF5JqX/tnPNRPLDqQEXl+6FT5XXOxQLtgLXOOSj+f/+Nc66/me2twIjfK+t72Dl3GzACuNTLfzhPISheS6ejyzUBUvJb/0VAgpl97nGcsrwNXO+ci3TOtQM6AV97nOmHdgODSz4eAmzyMEtZFgCXADjnOgMRBOn0RDNLNrMmZtbWzNpSfHmhj1cFXxbn3HCKf3fwUzPL9jpPKVYCnZxz7ZxzERTf0PC2x5n+i97xepacc6OBp4Fo4CiwxsyGOeemUHzd+OQyutzLX8KdKmvJvskUX+MsBH5vZkF1rdM5dyHwFMU/beYCvzKz1d6mKl3Ji/sloDeQD9xtZss9DXWGnHNbgXgzC8p/lJxz6UAkcKhk0wozu8vDSD/inLsSeBKoCrxkZg95m+i/qeRFRMKYLteIiIQxlbyISBhTyYuIhDGVvIhIGFPJi4iEMZW8iEgYU8mLiISx/weTXO20VVdvmwAAAABJRU5ErkJggg==\n"
          },
          "metadata": {
            "needs_background": "light"
          }
        }
      ]
    }
  ]
}
x=delta_sort
y = [x_poly[3]+x_poly[2]*i+x_poly[1]*i**2+x_poly[0]*i**3 for i in x]
plt.scatter(delta_sort, er, color='#68f7cc')
plt.plot(x, y)
plt.show
